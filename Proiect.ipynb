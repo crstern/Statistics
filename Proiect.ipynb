{
 "cells": [
  {
   "cell_type": "markdown",
   "metadata": {},
   "source": [
    "Dăscălescu Dana            \n",
    "Stern Cristian David <br>\n",
    "Grupa: 231"
   ]
  },
  {
   "cell_type": "markdown",
   "metadata": {},
   "source": [
    "#### Pentru aceasta analiză vom folosi setul de date 'rock' (conține măsurători pentru 48 de probe de rocă dintr-un rezervor de petrol) care vine în mod implicit cu R.\n",
    "Datele stabilite pentru acest studiu de caz au fost destinate să răspundă cel puțin la următoarele întrebări:\n",
    "1. Ce valori trebuie luate în considerare pentru a determina care roci vor face un bun rezervor?  O rocă care este atât poroasă cât și permeabilă ar face o rocă de acumulare bună, deoarece permite petrolului și gazului să se deplaseze în sus prin porii din rocă, mai aproape de suprafața de unde poate fi extrasă.\n",
    "2. Care este inter-relația(corelația) dintre forma spațiului porilor și permeabilitatea unei roci? Dar cea dintre aria porilor, forma acestora și permeabilitatea unei roci?\n"
   ]
  },
  {
   "cell_type": "markdown",
   "metadata": {},
   "source": [
    "# 1. Operații de statistică descriptivă. "
   ]
  },
  {
   "cell_type": "code",
   "execution_count": 3,
   "metadata": {
    "scrolled": true
   },
   "outputs": [
    {
     "data": {
      "text/html": [
       "<table>\n",
       "<thead><tr><th scope=col>area</th><th scope=col>peri</th><th scope=col>shape</th><th scope=col>perm</th></tr></thead>\n",
       "<tbody>\n",
       "\t<tr><td>4990     </td><td>2791.90  </td><td>0.0903296</td><td> 6.3     </td></tr>\n",
       "\t<tr><td>7002     </td><td>3892.60  </td><td>0.1486220</td><td> 6.3     </td></tr>\n",
       "\t<tr><td>7558     </td><td>3930.66  </td><td>0.1833120</td><td> 6.3     </td></tr>\n",
       "\t<tr><td>7352     </td><td>3869.32  </td><td>0.1170630</td><td> 6.3     </td></tr>\n",
       "\t<tr><td>7943     </td><td>3948.54  </td><td>0.1224170</td><td>17.1     </td></tr>\n",
       "\t<tr><td>7979     </td><td>4010.15  </td><td>0.1670450</td><td>17.1     </td></tr>\n",
       "</tbody>\n",
       "</table>\n"
      ],
      "text/latex": [
       "\\begin{tabular}{r|llll}\n",
       " area & peri & shape & perm\\\\\n",
       "\\hline\n",
       "\t 4990      & 2791.90   & 0.0903296 &  6.3     \\\\\n",
       "\t 7002      & 3892.60   & 0.1486220 &  6.3     \\\\\n",
       "\t 7558      & 3930.66   & 0.1833120 &  6.3     \\\\\n",
       "\t 7352      & 3869.32   & 0.1170630 &  6.3     \\\\\n",
       "\t 7943      & 3948.54   & 0.1224170 & 17.1     \\\\\n",
       "\t 7979      & 4010.15   & 0.1670450 & 17.1     \\\\\n",
       "\\end{tabular}\n"
      ],
      "text/markdown": [
       "\n",
       "| area | peri | shape | perm |\n",
       "|---|---|---|---|\n",
       "| 4990      | 2791.90   | 0.0903296 |  6.3      |\n",
       "| 7002      | 3892.60   | 0.1486220 |  6.3      |\n",
       "| 7558      | 3930.66   | 0.1833120 |  6.3      |\n",
       "| 7352      | 3869.32   | 0.1170630 |  6.3      |\n",
       "| 7943      | 3948.54   | 0.1224170 | 17.1      |\n",
       "| 7979      | 4010.15   | 0.1670450 | 17.1      |\n",
       "\n"
      ],
      "text/plain": [
       "  area peri    shape     perm\n",
       "1 4990 2791.90 0.0903296  6.3\n",
       "2 7002 3892.60 0.1486220  6.3\n",
       "3 7558 3930.66 0.1833120  6.3\n",
       "4 7352 3869.32 0.1170630  6.3\n",
       "5 7943 3948.54 0.1224170 17.1\n",
       "6 7979 4010.15 0.1670450 17.1"
      ]
     },
     "metadata": {},
     "output_type": "display_data"
    }
   ],
   "source": [
    "head(rock)  # display the first 6 observations\n",
    "attach(rock)"
   ]
  },
  {
   "cell_type": "markdown",
   "metadata": {},
   "source": [
    "###### Considerăm fiecare variabilă a setului de date separat."
   ]
  },
  {
   "cell_type": "markdown",
   "metadata": {},
   "source": [
    "> Area:"
   ]
  },
  {
   "cell_type": "code",
   "execution_count": 4,
   "metadata": {},
   "outputs": [
    {
     "data": {
      "text/plain": [
       "   Min. 1st Qu.  Median    Mean 3rd Qu.    Max. \n",
       "   1016    5305    7487    7188    8870   12212 "
      ]
     },
     "metadata": {},
     "output_type": "display_data"
    }
   ],
   "source": [
    "summary(area)"
   ]
  },
  {
   "cell_type": "code",
   "execution_count": 5,
   "metadata": {},
   "outputs": [
    {
     "data": {
      "image/png": "[encoded data removed]",
      "text/plain": [
       "Plot with title \"Histogram for area of pores space\""
      ]
     },
     "metadata": {},
     "output_type": "display_data"
    }
   ],
   "source": [
    "h1 <- hist(area,\n",
    "     main=\"Histogram for area of pores space\",\n",
    "     xlab=\"Area of pores space (px)\",\n",
    "     freq=FALSE,\n",
    "     breaks=13)\n",
    "lines(seq(min(area), 13000, by=1), dnorm(seq(min(area), 13000, by=1),\n",
    "      mean(area), sd(area)), col=\"blue\")"
   ]
  },
  {
   "cell_type": "markdown",
   "metadata": {},
   "source": [
    "&ensp; O _diagramă de frecvență_ dă o impresia imediată asupra valorilor, frecvenței relative și împrăștierii asociate datelor. \n",
    "Ea este obținută dacă ordonata histogramei este împărțită la numărul total de observații, 48 în acest caz, \n",
    "și la lățimea intervalului $ \\Delta $ . Este important să fie ales un număr de intervale în concordanță cu informația care\n",
    "vrea să fie extrasă  din modelul matematic.\n",
    "Numărul de intervale $ \\Delta $ este $ 1 + 3,3*\\ln n  $ ( Sturges, în 1926, a sugerat, ca un model practic, \n",
    "ca numărul de intervale alese k să fie <br> <center> $ k = 1 + 3,3 * \\ln n $ </center> <br> unde _n_ este numărul de date)."
   ]
  },
  {
   "cell_type": "code",
   "execution_count": 6,
   "metadata": {},
   "outputs": [
    {
     "data": {
      "image/png": "[encoded data removed]",
      "text/plain": [
       "Plot with title \"Density plot for area of pores space\""
      ]
     },
     "metadata": {},
     "output_type": "display_data"
    }
   ],
   "source": [
    "plot(density(area), main = \"Density plot for area of pores space\")\n",
    "polygon(density(area), col=\"gray\")"
   ]
  },
  {
   "cell_type": "markdown",
   "metadata": {},
   "source": [
    "&ensp; Distribuția este aproximativ în formă de clopot, care este forma distribuției normale(Gaussiană). Dar spre deosebire de o adevărată distribuție normală, această distribuție este asimetrică; are o coadă care se întinde mai mult spre stânga decât spre dreapta."
   ]
  },
  {
   "cell_type": "code",
   "execution_count": 7,
   "metadata": {},
   "outputs": [
    {
     "data": {
      "image/png": "[encoded data removed]",
      "text/plain": [
       "Plot with title \"Area of pores space\""
      ]
     },
     "metadata": {},
     "output_type": "display_data"
    }
   ],
   "source": [
    "boxplot(area, main=\"Area of pores space\", sub = paste(\"No outliner rows\"));"
   ]
  },
  {
   "cell_type": "markdown",
   "metadata": {},
   "source": [
    "> Peri"
   ]
  },
  {
   "cell_type": "code",
   "execution_count": 8,
   "metadata": {},
   "outputs": [
    {
     "data": {
      "text/plain": [
       "   Min. 1st Qu.  Median    Mean 3rd Qu.    Max. \n",
       "  308.6  1414.9  2536.2  2682.2  3989.5  4864.2 "
      ]
     },
     "metadata": {},
     "output_type": "display_data"
    }
   ],
   "source": [
    "summary(peri)"
   ]
  },
  {
   "cell_type": "code",
   "execution_count": 9,
   "metadata": {},
   "outputs": [
    {
     "data": {
      "image/png": "[encoded data removed]",
      "text/plain": [
       "Plot with title \"Histogram for perimeter of pores space\""
      ]
     },
     "metadata": {},
     "output_type": "display_data"
    }
   ],
   "source": [
    "h2 <- hist(peri,\n",
    "     main=\"Histogram for perimeter of pores space\",\n",
    "     xlab=\"Perimeter of pores space (px)\",\n",
    "     breaks=13)"
   ]
  },
  {
   "cell_type": "markdown",
   "metadata": {},
   "source": [
    "Distributia perimetrului porilor este aproximativ simetrica"
   ]
  },
  {
   "cell_type": "code",
   "execution_count": 10,
   "metadata": {},
   "outputs": [
    {
     "data": {
      "text/plain": [
       "$breaks\n",
       " [1]    0  500 1000 1500 2000 2500 3000 3500 4000 4500 5000\n",
       "\n",
       "$counts\n",
       " [1]  2  3 12  6  1  1  2 10  7  4\n",
       "\n",
       "$density\n",
       " [1] 8.333333e-05 1.250000e-04 5.000000e-04 2.500000e-04 4.166667e-05\n",
       " [6] 4.166667e-05 8.333333e-05 4.166667e-04 2.916667e-04 1.666667e-04\n",
       "\n",
       "$mids\n",
       " [1]  250  750 1250 1750 2250 2750 3250 3750 4250 4750\n",
       "\n",
       "$xname\n",
       "[1] \"peri\"\n",
       "\n",
       "$equidist\n",
       "[1] TRUE\n",
       "\n",
       "attr(,\"class\")\n",
       "[1] \"histogram\""
      ]
     },
     "metadata": {},
     "output_type": "display_data"
    }
   ],
   "source": [
    "h2"
   ]
  },
  {
   "cell_type": "code",
   "execution_count": 11,
   "metadata": {},
   "outputs": [
    {
     "data": {
      "image/png": "[encoded data removed]",
      "text/plain": [
       "Plot with title \"Density plot of perimeter\""
      ]
     },
     "metadata": {},
     "output_type": "display_data"
    }
   ],
   "source": [
    "plot(density(peri), main=\"Density plot of perimeter\")\n",
    "polygon(density(peri), col=\"gray\")"
   ]
  },
  {
   "cell_type": "code",
   "execution_count": 12,
   "metadata": {},
   "outputs": [
    {
     "data": {
      "image/png": "[encoded data removed]",
      "text/plain": [
       "Plot with title \"Perimeter in pixels\""
      ]
     },
     "metadata": {},
     "output_type": "display_data"
    }
   ],
   "source": [
    "boxplot(peri, main=\"Perimeter in pixels\", sub = paste(\"No outliner rows\"));"
   ]
  },
  {
   "cell_type": "markdown",
   "metadata": {},
   "source": [
    "> Shape"
   ]
  },
  {
   "cell_type": "code",
   "execution_count": 13,
   "metadata": {},
   "outputs": [
    {
     "data": {
      "text/plain": [
       "   Min. 1st Qu.  Median    Mean 3rd Qu.    Max. \n",
       "0.09033 0.16226 0.19886 0.21811 0.26267 0.46413 "
      ]
     },
     "metadata": {},
     "output_type": "display_data"
    }
   ],
   "source": [
    "summary(shape)"
   ]
  },
  {
   "cell_type": "code",
   "execution_count": 35,
   "metadata": {},
   "outputs": [
    {
     "data": {
      "image/png": "[encoded data removed]",
      "text/plain": [
       "Plot with title \"Histogram for shape of pores space\""
      ]
     },
     "metadata": {},
     "output_type": "display_data"
    }
   ],
   "source": [
    "h3 <- hist(shape,\n",
    "     main=\"Histogram for shape of pores space\",\n",
    "     xlab=\"Perimeter of pores space (px)\",\n",
    "     ylab=\"Frequency\", \n",
    "     border=\"blue\",\n",
    "     breaks=13)\n",
    "lines(seq(0, 0.5, by=0.01), dnorm(seq(0, 0.5, by=0.01), mean(shape), sd(shape)), col=\"blue\")"
   ]
  },
  {
   "cell_type": "markdown",
   "metadata": {},
   "source": [
    "O histograma inclinata in stanga sugereaza ca media perimetrelor porilor in pixeli este mai mare decat mediana acestora."
   ]
  },
  {
   "cell_type": "code",
   "execution_count": 15,
   "metadata": {},
   "outputs": [
    {
     "data": {
      "text/plain": [
       "$breaks\n",
       " [1] 0.05 0.10 0.15 0.20 0.25 0.30 0.35 0.40 0.45 0.50\n",
       "\n",
       "$counts\n",
       "[1]  1  7 16 10  7  4  0  2  1\n",
       "\n",
       "$density\n",
       "[1] 0.4166667 2.9166667 6.6666667 4.1666667 2.9166667 1.6666667 0.0000000\n",
       "[8] 0.8333333 0.4166667\n",
       "\n",
       "$mids\n",
       "[1] 0.075 0.125 0.175 0.225 0.275 0.325 0.375 0.425 0.475\n",
       "\n",
       "$xname\n",
       "[1] \"shape\"\n",
       "\n",
       "$equidist\n",
       "[1] TRUE\n",
       "\n",
       "attr(,\"class\")\n",
       "[1] \"histogram\""
      ]
     },
     "metadata": {},
     "output_type": "display_data"
    }
   ],
   "source": [
    "h3"
   ]
  },
  {
   "cell_type": "code",
   "execution_count": 16,
   "metadata": {},
   "outputs": [
    {
     "data": {
      "image/png": "[encoded data removed]",
      "text/plain": [
       "Plot with title \"Density plot for shape\""
      ]
     },
     "metadata": {},
     "output_type": "display_data"
    }
   ],
   "source": [
    "plot(density(shape), main=\"Density plot for shape\")\n",
    "polygon(density(shape), col=\"gray\")"
   ]
  },
  {
   "cell_type": "code",
   "execution_count": 17,
   "metadata": {},
   "outputs": [
    {
     "data": {
      "image/png": "[encoded data removed]",
      "text/plain": [
       "Plot with title \"Shape - Perimeter / sqrt (area)\""
      ]
     },
     "metadata": {},
     "output_type": "display_data"
    }
   ],
   "source": [
    "boxplot(shape,\n",
    "        main=\"Shape - Perimeter / sqrt (area)\", \n",
    "        sub = paste(\"Outliner rows: \", paste(boxplot.stats(shape)$out, collapse=' and ')\n",
    "));"
   ]
  },
  {
   "cell_type": "markdown",
   "metadata": {},
   "source": [
    "> Perm"
   ]
  },
  {
   "cell_type": "code",
   "execution_count": 18,
   "metadata": {
    "scrolled": true
   },
   "outputs": [
    {
     "data": {
      "text/plain": [
       "   Min. 1st Qu.  Median    Mean 3rd Qu.    Max. \n",
       "   6.30   76.45  130.50  415.45  777.50 1300.00 "
      ]
     },
     "metadata": {},
     "output_type": "display_data"
    }
   ],
   "source": [
    "summary(perm)"
   ]
  },
  {
   "cell_type": "code",
   "execution_count": 19,
   "metadata": {},
   "outputs": [
    {
     "data": {
      "image/png": "[encoded data removed]",
      "text/plain": [
       "Plot with title \"Histogram for permeability\""
      ]
     },
     "metadata": {},
     "output_type": "display_data"
    }
   ],
   "source": [
    "h4 <- hist(perm,\n",
    "     main=\"Histogram for permeability\",\n",
    "     xlab=\"Perimeter of pores space (px)\",\n",
    "     ylab=\"Frequency\", \n",
    "     border=\"blue\",\n",
    "     breaks=13)"
   ]
  },
  {
   "cell_type": "code",
   "execution_count": 20,
   "metadata": {},
   "outputs": [
    {
     "data": {
      "text/plain": [
       "$breaks\n",
       " [1]    0  100  200  300  400  500  600  700  800  900 1000 1100 1200 1300\n",
       "\n",
       "$counts\n",
       " [1] 20  8  0  0  0  4  0  4  4  4  0  0  4\n",
       "\n",
       "$density\n",
       " [1] 0.0041666667 0.0016666667 0.0000000000 0.0000000000 0.0000000000\n",
       " [6] 0.0008333333 0.0000000000 0.0008333333 0.0008333333 0.0008333333\n",
       "[11] 0.0000000000 0.0000000000 0.0008333333\n",
       "\n",
       "$mids\n",
       " [1]   50  150  250  350  450  550  650  750  850  950 1050 1150 1250\n",
       "\n",
       "$xname\n",
       "[1] \"perm\"\n",
       "\n",
       "$equidist\n",
       "[1] TRUE\n",
       "\n",
       "attr(,\"class\")\n",
       "[1] \"histogram\""
      ]
     },
     "metadata": {},
     "output_type": "display_data"
    }
   ],
   "source": [
    "h4"
   ]
  },
  {
   "cell_type": "code",
   "execution_count": 21,
   "metadata": {},
   "outputs": [
    {
     "data": {
      "image/png": "[encoded data removed]",
      "text/plain": [
       "Plot with title \"Density plot for permeability\""
      ]
     },
     "metadata": {},
     "output_type": "display_data"
    }
   ],
   "source": [
    "plot(density(perm), main=\"Density plot for permeability\")\n",
    "polygon(density(perm), col=\"gray\")"
   ]
  },
  {
   "cell_type": "code",
   "execution_count": 22,
   "metadata": {},
   "outputs": [
    {
     "data": {
      "image/png": "[encoded data removed]",
      "text/plain": [
       "Plot with title \"Permeability in mili-Darcies\""
      ]
     },
     "metadata": {},
     "output_type": "display_data"
    }
   ],
   "source": [
    "boxplot(perm, main=\"Permeability in mili-Darcies\", sub = paste(\"No outliner rows\"));"
   ]
  },
  {
   "cell_type": "markdown",
   "metadata": {},
   "source": [
    "# 2. Modele de regresie"
   ]
  },
  {
   "cell_type": "markdown",
   "metadata": {},
   "source": [
    "## 2.1 Regresie simplă\n",
    "###### Scop: De a construi un model de regresie simplă pe care îl putem folosi pentru a prezice permeabilitatea prin stabilirea unei relații liniare semnificative statistice cu forma suprafeței porilor"
   ]
  },
  {
   "cell_type": "markdown",
   "metadata": {},
   "source": [
    "### I. Analiza grafică"
   ]
  },
  {
   "cell_type": "code",
   "execution_count": 23,
   "metadata": {},
   "outputs": [
    {
     "data": {
      "image/png": "[encoded data removed]",
      "text/plain": [
       "Plot with title \" Forma porilor ~ Permeabilitatea\""
      ]
     },
     "metadata": {},
     "output_type": "display_data"
    }
   ],
   "source": [
    "scatter.smooth(x=shape, y = perm, xlab = \"Forma\", ylab = \"Permeabilitatea\" , main = \" Forma porilor ~ Permeabilitatea\");"
   ]
  },
  {
   "cell_type": "markdown",
   "metadata": {},
   "source": [
    "Diagrama de împrăștiere sugerează o relație de creștere liniară dintre 'shape' și 'perm'. Ceea ce îndeplinește cerința ca într-o regresie liniară relația dintre variabila răspuns și variabila predictor să fie liniară și aditivă."
   ]
  },
  {
   "cell_type": "markdown",
   "metadata": {},
   "source": [
    "### Verifică existența valorilor aberante"
   ]
  },
  {
   "cell_type": "markdown",
   "metadata": {},
   "source": [
    "Valorile extreme(aberante) pot denatura predicțiile și pot afecta precizia. Din acest motiv este important să le identificăm și să le tratăm corespunzător."
   ]
  },
  {
   "cell_type": "code",
   "execution_count": 24,
   "metadata": {},
   "outputs": [
    {
     "data": {
      "image/png": "[encoded data removed]",
      "text/plain": [
       "Plot with title \"Permeabilitatea\""
      ]
     },
     "metadata": {},
     "output_type": "display_data"
    }
   ],
   "source": [
    "par(mfrow=c(1, 2))\n",
    "boxplot(shape, main=\"Forma\", outline = TRUE)\n",
    "boxplot(perm, main=\"Permeabilitatea\", outline = TRUE)"
   ]
  },
  {
   "cell_type": "markdown",
   "metadata": {},
   "source": [
    "### Densitatea "
   ]
  },
  {
   "cell_type": "code",
   "execution_count": 37,
   "metadata": {},
   "outputs": [
    {
     "name": "stderr",
     "output_type": "stream",
     "text": [
      "Warning message:\n",
      "\"package 'e1071' was built under R version 3.6.2\""
     ]
    },
    {
     "data": {
      "image/png": "[encoded data removed]",
      "text/plain": [
       "Plot with title \"Density Ploot: Permeabillity\""
      ]
     },
     "metadata": {},
     "output_type": "display_data"
    }
   ],
   "source": [
    "library(e1071)\n",
    "par(mfrow=c(1, 2))\n",
    "plot(density(shape), main=\"Density Ploot: Shape\", ylab=\"Frequency\"\n",
    "    , sub= paste(\"Skewness:\", round(e1071::skewness(shape), 2)))\n",
    "polygon(density(shape), col=\"red\")\n",
    "plot(density(perm), main=\"Density Ploot: Permeabillity\", ylab=\"Frequency\"\n",
    "    , sub= paste(\"Skewness:\", round(e1071::skewness(perm), 2)))\n",
    "polygon(density(perm), col=\"red\")"
   ]
  },
  {
   "cell_type": "markdown",
   "metadata": {},
   "source": [
    "### Corelația"
   ]
  },
  {
   "cell_type": "markdown",
   "metadata": {},
   "source": [
    "&ensp; Coefiecientul de corelație măsoară interdependența liniară a variabilelor aleatoare, adică acuratețea cu care o variabilă aleatoare poate fi aproximată printr-o funcție liniară de cealaltă."
   ]
  },
  {
   "cell_type": "code",
   "execution_count": 26,
   "metadata": {},
   "outputs": [
    {
     "data": {
      "text/html": [
       "0.556720832952055"
      ],
      "text/latex": [
       "0.556720832952055"
      ],
      "text/markdown": [
       "0.556720832952055"
      ],
      "text/plain": [
       "[1] 0.5567208"
      ]
     },
     "metadata": {},
     "output_type": "display_data"
    }
   ],
   "source": [
    "cor(shape, perm)"
   ]
  },
  {
   "cell_type": "markdown",
   "metadata": {},
   "source": [
    "&ensp; Coeficientul de corelație aparține intervalului $ [0.25,0.75] $ ceea ce indică că variabilele sunt corelate."
   ]
  },
  {
   "cell_type": "markdown",
   "metadata": {},
   "source": [
    "### Construim regresia liniară"
   ]
  },
  {
   "cell_type": "code",
   "execution_count": 27,
   "metadata": {},
   "outputs": [
    {
     "name": "stdout",
     "output_type": "stream",
     "text": [
      "\n",
      "Call:\n",
      "lm(formula = perm ~ shape, data = rock)\n",
      "\n",
      "Coefficients:\n",
      "(Intercept)        shape  \n",
      "     -221.3       2919.2  \n",
      "\n"
     ]
    }
   ],
   "source": [
    "linearMod <- lm(perm ~ shape, data=rock) #build linear regression model\n",
    "print(linearMod)"
   ]
  },
  {
   "cell_type": "markdown",
   "metadata": {},
   "source": [
    "Acum că am construit modelul liniar, am stabilit, de asemenea, relația dintre variabila predictor și variabila răspuns sub forma unei formule matematice pentru variabila răspuns(shape) și predictorul(perm). <br>\n",
    "<center> $ permeability = Intercept + ( \\beta * shape) \\iff permeability = -221.3 + 2919.2 * shape $ </center>\n"
   ]
  },
  {
   "cell_type": "code",
   "execution_count": 28,
   "metadata": {},
   "outputs": [
    {
     "data": {
      "text/plain": [
       "\n",
       "Call:\n",
       "lm(formula = perm ~ shape, data = rock)\n",
       "\n",
       "Residuals:\n",
       "   Min     1Q Median     3Q    Max \n",
       "-959.4 -250.5 -104.8  230.5  849.6 \n",
       "\n",
       "Coefficients:\n",
       "            Estimate Std. Error t value Pr(>|t|)    \n",
       "(Intercept)   -221.3      149.8  -1.477    0.146    \n",
       "shape         2919.2      642.2   4.545 3.97e-05 ***\n",
       "---\n",
       "Signif. codes:  0 '***' 0.001 '**' 0.01 '*' 0.05 '.' 0.1 ' ' 1\n",
       "\n",
       "Residual standard error: 367.6 on 46 degrees of freedom\n",
       "Multiple R-squared:  0.3099,\tAdjusted R-squared:  0.2949 \n",
       "F-statistic: 20.66 on 1 and 46 DF,  p-value: 3.969e-05\n"
      ]
     },
     "metadata": {},
     "output_type": "display_data"
    }
   ],
   "source": [
    "summary(linearMod)"
   ]
  },
  {
   "cell_type": "markdown",
   "metadata": {},
   "source": [
    "&ensp; Înainte să folosim modelul trebuie să ne asigurăm că modelul de regresie construit este semnificativ din punct de vedere statistic. "
   ]
  },
  {
   "cell_type": "markdown",
   "metadata": {},
   "source": [
    "&emsp; Fie $X_{1} $,$X_{2} $,...,$X_{n} $ o seleție independentă de mărime n dintr-o populație X cu o presupusă densitate f(x;$ \\Theta $) sau masă p(x;$ \\Theta $), unde $ \\Theta $ poate fi specificată sau nu. Notăm cu _H_ ipoteza că selecția reprezintă n valori ale unei variabile aleatoare cu densitatea f(x;$ \\Theta $) sau masă p(x;$ \\Theta $). Această ipoteză este numită _ipoteză simplă_ când repartiția este complet specificată când repartiția este complet specificată, adică valorile parametrului sunt specificate împreună cu forma funcțională a densității sau masei, altfel este o ipoteză compusă. Pentru a construi un criteriu pentru testarea ipotezelor este necesar să fie stabilită o ipoteză alternativă împotriva căreia ipoteza _H_ poate fi testată. Un exemplu de ipoteză alternativă este altă repartiție presupusă sau ipoteza poate fi testată împotriva ipotezei alternative că ipoteza _H_ nu este adevărată. Vom considera în continuare ultima alegere."
   ]
  },
  {
   "cell_type": "markdown",
   "metadata": {},
   "source": [
    "&emsp; **p-value** este utilizată în contextul testării ipotezei nule pentru a cuantifica ideea semnificației statistice a probelor(testarea ipotezei nule este un argument de tip reducere la absurd adaptat statisticilor). Ipoteza alternativă este aceea că coeficienții nu sunt egali cu zero (i.e există o relație între variabila independentă în cauză și variabila dependentă).<br>\n",
    "&emsp;Cu cât este mai mică **p-value**, cu atât este mai mare semnificația statistică, deoarece îi spune investigatorului că ipoteza analizată poate să nu explice în mod adecvat obsevația. Ipoteza nulă este respinsă dacă oricare dintre aceste probabilități este mai mică sau egală cu o valoare de prag mică, fixă, preddefinită în mod arbitrar $ \\alpha $. Spre deosebire de **p-value**, $ \\alpha $ nu este derivat din date observaționale și nu depinde de ipotezaa de bază. Prin convenție $ \\alpha $ este setat de obicei la $ 0.05, 0.01, 0.001 $."
   ]
  },
  {
   "cell_type": "markdown",
   "metadata": {},
   "source": [
    "&emsp; Putem interpreta **t-value** astfel: o valoare **t-value** mică indică faptul că este mai puțin probabil ca coeficientul să nu fie egal cu zero pur întâmplător. Deci, cu cât este mai mare **t-value**, cu atât mai bine."
   ]
  },
  {
   "cell_type": "markdown",
   "metadata": {},
   "source": [
    "&emsp; Probabilitatea $ P(>|t|) $ sau **p-value** este probabilitate de a obține o valoare **t-value** cât mai mare sau mai mare decât valoarea observată când ipoteza nulă( coeficentul $ \\beta $ este egal cu zero sau nu există nicio relație între variabila independentă în cauză și variabila dependentă) este adevărată. "
   ]
  },
  {
   "cell_type": "markdown",
   "metadata": {},
   "source": [
    "&emsp; Ce înseamnă pentru noi asta?\n",
    "Când valoarea **p-value** este mai mică $ 0.05 $ putem respinge în siguranță ipoteza nulă potrivit căreia coeficientul $ \\beta $ al predictorului este zero."
   ]
  },
  {
   "cell_type": "markdown",
   "metadata": {},
   "source": [
    "&emsp; Când eroarea standard și valoarea coeficienților este cunoscută putem calcula valoarea rației **t-Statistic** astfel:<br>\n",
    "<center> $ t-Statistic =  \\frac{\\beta}{Err.Standard} $ </center>"
   ]
  },
  {
   "cell_type": "code",
   "execution_count": 38,
   "metadata": {},
   "outputs": [],
   "source": [
    "modelSummary <- summary(linearMod) #capture model summary as an object\n",
    "modelCoefficients <- modelSummary$coefficients # model coefficients\n",
    "beta_estimate <- modelCoefficients[\"shape\", \"Estimate\"] # get beta estimate for shape\n",
    "standard_error <- modelCoefficients[\"shape\", \"Std. Error\"] # gets standard errror for shape\n",
    "t_value <- beta_estimate/standard_error # calculate t-statistic\n",
    "p_value <- 2*pt(-abs(t_value), df=nrow(rock)-ncol(rock)) #calculate the p-value\n",
    "f_statistic <- linearMod$fstatistic[1] # fstatistic\n",
    "f <- summary(linearMod)$fstatistic \n",
    "model_p <- pf(f[1], f[2], f[3], lower=FALSE)"
   ]
  },
  {
   "cell_type": "code",
   "execution_count": 39,
   "metadata": {},
   "outputs": [
    {
     "data": {
      "text/html": [
       "4.54540263994514"
      ],
      "text/latex": [
       "4.54540263994514"
      ],
      "text/markdown": [
       "4.54540263994514"
      ],
      "text/plain": [
       "[1] 4.545403"
      ]
     },
     "metadata": {},
     "output_type": "display_data"
    }
   ],
   "source": [
    "# t-Value:\n",
    "t_value"
   ]
  },
  {
   "cell_type": "code",
   "execution_count": 40,
   "metadata": {},
   "outputs": [
    {
     "data": {
      "text/html": [
       "4.25706091623792e-05"
      ],
      "text/latex": [
       "4.25706091623792e-05"
      ],
      "text/markdown": [
       "4.25706091623792e-05"
      ],
      "text/plain": [
       "[1] 4.257061e-05"
      ]
     },
     "metadata": {},
     "output_type": "display_data"
    }
   ],
   "source": [
    "# p-Value:\n",
    "p_value"
   ]
  },
  {
   "cell_type": "code",
   "execution_count": 41,
   "metadata": {},
   "outputs": [
    {
     "data": {
      "text/html": [
       "<dl class=dl-horizontal>\n",
       "\t<dt>value</dt>\n",
       "\t\t<dd>20.6606851592202</dd>\n",
       "\t<dt>numdf</dt>\n",
       "\t\t<dd>1</dd>\n",
       "\t<dt>dendf</dt>\n",
       "\t\t<dd>46</dd>\n",
       "</dl>\n"
      ],
      "text/latex": [
       "\\begin{description*}\n",
       "\\item[value] 20.6606851592202\n",
       "\\item[numdf] 1\n",
       "\\item[dendf] 46\n",
       "\\end{description*}\n"
      ],
      "text/markdown": [
       "value\n",
       ":   20.6606851592202numdf\n",
       ":   1dendf\n",
       ":   46\n",
       "\n"
      ],
      "text/plain": [
       "   value    numdf    dendf \n",
       "20.66069  1.00000 46.00000 "
      ]
     },
     "metadata": {},
     "output_type": "display_data"
    }
   ],
   "source": [
    "# Model F Statistic:\n",
    "f"
   ]
  },
  {
   "cell_type": "code",
   "execution_count": 42,
   "metadata": {},
   "outputs": [
    {
     "data": {
      "text/html": [
       "<strong>value:</strong> 3.96920658046647e-05"
      ],
      "text/latex": [
       "\\textbf{value:} 3.96920658046647e-05"
      ],
      "text/markdown": [
       "**value:** 3.96920658046647e-05"
      ],
      "text/plain": [
       "       value \n",
       "3.969207e-05 "
      ]
     },
     "metadata": {},
     "output_type": "display_data"
    }
   ],
   "source": [
    "# Model p-Value:\n",
    "model_p"
   ]
  },
  {
   "cell_type": "markdown",
   "metadata": {},
   "source": [
    "> ### $R^2$ și $R^2$ ajustat"
   ]
  },
  {
   "cell_type": "markdown",
   "metadata": {},
   "source": [
    "&emsp;Ce ne spune $R^2$ este proporția variației variabilei dependente care a fost elaborata de modelul nostru.<br><center>$ R^2 = 1 - \\frac{SSE}{SST} $</center><br>unde SSE este suma pătratelor erorilor, $ SSE=\\sum_{i}^n (y_{i} - ŷ_{i})^2 $\n",
    ", iar SST este suma totalului de pătrate, $ SST=\\sum_{i}^n (y_{i} - ȳ_{i})^2 $.<br>\n",
    "Cu cât $R^2$ este mai mare, cu atât mai bine."
   ]
  },
  {
   "cell_type": "markdown",
   "metadata": {},
   "source": [
    "Când adăugăm mai multe date predictor modelului nostru, valoarea $R^2$ a noului model va crește pentru că toate variabilele din modelul initial sunt prezente si in modelul extins, de aceea folosim $R^2$ ajustat. $R^2$ ajustat tine cont de numarul total de termeni ai modelului nostru.<br><center> $R^2_{adj} = 1 - \\frac{(1 - R^2)(n - 1)}{n - q} $ </center>, unde n este numarul de observatii, iar q este numarul de coeficienti ai modelului."
   ]
  },
  {
   "cell_type": "markdown",
   "metadata": {},
   "source": [
    "> ### AIC și BIC"
   ]
  },
  {
   "cell_type": "markdown",
   "metadata": {},
   "source": [
    "\"Akaike's information criterion\" și \"Bayesian information critetion\" sunt măsuri ale performanței de antrenare a unui model statistic și pot fi de asemenea utilizate pentru selectarea modelului"
   ]
  },
  {
   "cell_type": "code",
   "execution_count": 44,
   "metadata": {},
   "outputs": [
    {
     "data": {
      "text/html": [
       "707.253952000785"
      ],
      "text/latex": [
       "707.253952000785"
      ],
      "text/markdown": [
       "707.253952000785"
      ],
      "text/plain": [
       "[1] 707.254"
      ]
     },
     "metadata": {},
     "output_type": "display_data"
    }
   ],
   "source": [
    "AIC(linearMod)"
   ]
  },
  {
   "cell_type": "code",
   "execution_count": 45,
   "metadata": {},
   "outputs": [
    {
     "data": {
      "text/html": [
       "712.867555033509"
      ],
      "text/latex": [
       "712.867555033509"
      ],
      "text/markdown": [
       "712.867555033509"
      ],
      "text/plain": [
       "[1] 712.8676"
      ]
     },
     "metadata": {},
     "output_type": "display_data"
    }
   ],
   "source": [
    "BIC(linearMod)"
   ]
  },
  {
   "cell_type": "markdown",
   "metadata": {},
   "source": [
    "### Prezicerea modelelor liniare"
   ]
  },
  {
   "cell_type": "markdown",
   "metadata": {},
   "source": [
    "Impărtim setul de date in două dupa cum urmează:<br>80% pentru antrenare;<br>20% pentru testare."
   ]
  },
  {
   "cell_type": "markdown",
   "metadata": {},
   "source": [
    "Construim apoi modelul pe eșantionul de 80%, folosindu-l ulterior pentru a prezice variabila pe datele de testare"
   ]
  },
  {
   "cell_type": "code",
   "execution_count": 46,
   "metadata": {},
   "outputs": [],
   "source": [
    "trainingRowIndex <- sample(1:nrow(rock), 0.8*nrow(cars))\n",
    "trainingData <- rock[trainingRowIndex, ]\n",
    "testData <- rock[-trainingRowIndex, ]"
   ]
  },
  {
   "cell_type": "markdown",
   "metadata": {},
   "source": [
    "Modelul se antrenează, ulterior fiind capabil sa prezica permeabilitatea rocilor in functie de forma acestora"
   ]
  },
  {
   "cell_type": "code",
   "execution_count": 47,
   "metadata": {},
   "outputs": [],
   "source": [
    "lmMod <- lm(perm ~ shape, data=trainingData)\n",
    "permPrediction <- predict(lmMod, testData)"
   ]
  },
  {
   "cell_type": "code",
   "execution_count": 49,
   "metadata": {},
   "outputs": [
    {
     "data": {
      "text/plain": [
       "\n",
       "Call:\n",
       "lm(formula = perm ~ shape, data = trainingData)\n",
       "\n",
       "Residuals:\n",
       "    Min      1Q  Median      3Q     Max \n",
       "-912.44 -263.65  -99.96  267.24  697.74 \n",
       "\n",
       "Coefficients:\n",
       "            Estimate Std. Error t value Pr(>|t|)    \n",
       "(Intercept)   -159.7      158.3  -1.009 0.319379    \n",
       "shape         2671.8      664.3   4.022 0.000264 ***\n",
       "---\n",
       "Signif. codes:  0 '***' 0.001 '**' 0.01 '*' 0.05 '.' 0.1 ' ' 1\n",
       "\n",
       "Residual standard error: 366.4 on 38 degrees of freedom\n",
       "Multiple R-squared:  0.2986,\tAdjusted R-squared:  0.2801 \n",
       "F-statistic: 16.18 on 1 and 38 DF,  p-value: 0.0002644\n"
      ]
     },
     "metadata": {},
     "output_type": "display_data"
    },
    {
     "data": {
      "text/html": [
       "589.756537944841"
      ],
      "text/latex": [
       "589.756537944841"
      ],
      "text/markdown": [
       "589.756537944841"
      ],
      "text/plain": [
       "[1] 589.7565"
      ]
     },
     "metadata": {},
     "output_type": "display_data"
    }
   ],
   "source": [
    "summary(lmMod)\n",
    "AIC(lmMod)"
   ]
  },
  {
   "cell_type": "markdown",
   "metadata": {},
   "source": [
    "Analizând din nou datele, observam un **p-value** mai mic decât cel calculat precedent, dar si AIC mai mic."
   ]
  },
  {
   "cell_type": "code",
   "execution_count": 53,
   "metadata": {},
   "outputs": [
    {
     "data": {
      "text/html": [
       "<table>\n",
       "<thead><tr><th></th><th scope=col>actuals</th><th scope=col>predicteds</th></tr></thead>\n",
       "<tbody>\n",
       "\t<tr><th scope=row>actuals</th><td>1.0000000</td><td>0.6999281</td></tr>\n",
       "\t<tr><th scope=row>predicteds</th><td>0.6999281</td><td>1.0000000</td></tr>\n",
       "</tbody>\n",
       "</table>\n"
      ],
      "text/latex": [
       "\\begin{tabular}{r|ll}\n",
       "  & actuals & predicteds\\\\\n",
       "\\hline\n",
       "\tactuals & 1.0000000 & 0.6999281\\\\\n",
       "\tpredicteds & 0.6999281 & 1.0000000\\\\\n",
       "\\end{tabular}\n"
      ],
      "text/markdown": [
       "\n",
       "| <!--/--> | actuals | predicteds |\n",
       "|---|---|---|\n",
       "| actuals | 1.0000000 | 0.6999281 |\n",
       "| predicteds | 0.6999281 | 1.0000000 |\n",
       "\n"
      ],
      "text/plain": [
       "           actuals   predicteds\n",
       "actuals    1.0000000 0.6999281 \n",
       "predicteds 0.6999281 1.0000000 "
      ]
     },
     "metadata": {},
     "output_type": "display_data"
    }
   ],
   "source": [
    "actuals_preds <- data.frame(cbind(actuals=testData$perm, predicteds = permPrediction))\n",
    "correlation_accuracy <- cor(actuals_preds, )\n",
    "correlation_accuracy"
   ]
  },
  {
   "cell_type": "markdown",
   "metadata": {},
   "source": [
    "Observam o corelatie buna a valorilor prezise. Urmeaza sa calculăm acuratetea si rata de eroare, ca sa ne dam seama cât de performant este modelul nostru."
   ]
  },
  {
   "cell_type": "markdown",
   "metadata": {},
   "source": [
    "<center>$MinMaxAccuracy = mean(\\frac{min(actuals, predicteds)}{max(actuals, predicteds)})$ </center>\n"
   ]
  },
  {
   "cell_type": "markdown",
   "metadata": {},
   "source": [
    "$ MeanAbsolutePercentageError(MAPE) = mean(\\frac{abs(predicteds - actuals)}{actuals}) $"
   ]
  },
  {
   "cell_type": "code",
   "execution_count": 56,
   "metadata": {},
   "outputs": [],
   "source": [
    "min_max_accuracy <- mean(apply(actuals_preds, 1, min) / apply(actuals_preds, 1, max))  \n",
    "mape <- mean(abs((actuals_preds$predicteds - actuals_preds$actuals)) / actuals_preds$actuals)"
   ]
  },
  {
   "cell_type": "code",
   "execution_count": 58,
   "metadata": {},
   "outputs": [
    {
     "data": {
      "text/html": [
       "0.322667164392785"
      ],
      "text/latex": [
       "0.322667164392785"
      ],
      "text/markdown": [
       "0.322667164392785"
      ],
      "text/plain": [
       "[1] 0.3226672"
      ]
     },
     "metadata": {},
     "output_type": "display_data"
    }
   ],
   "source": [
    "min_max_accuracy"
   ]
  },
  {
   "cell_type": "code",
   "execution_count": 59,
   "metadata": {},
   "outputs": [
    {
     "data": {
      "text/html": [
       "8.37167758893662"
      ],
      "text/latex": [
       "8.37167758893662"
      ],
      "text/markdown": [
       "8.37167758893662"
      ],
      "text/plain": [
       "[1] 8.371678"
      ]
     },
     "metadata": {},
     "output_type": "display_data"
    }
   ],
   "source": [
    "mape"
   ]
  },
  {
   "cell_type": "markdown",
   "metadata": {},
   "source": [
    "## K-fold cross-validation"
   ]
  },
  {
   "cell_type": "code",
   "execution_count": 69,
   "metadata": {},
   "outputs": [
    {
     "name": "stderr",
     "output_type": "stream",
     "text": [
      "Warning message:\n",
      "\"package 'tidyverse' was built under R version 3.6.2\"-- Attaching packages --------------------------------------- tidyverse 1.3.0 --\n",
      "v ggplot2 3.2.1     v purrr   0.3.3\n",
      "v tibble  2.1.3     v dplyr   0.8.3\n",
      "v tidyr   1.0.2     v stringr 1.4.0\n",
      "v readr   1.3.1     v forcats 0.4.0\n",
      "Warning message:\n",
      "\"package 'ggplot2' was built under R version 3.6.2\"Warning message:\n",
      "\"package 'tibble' was built under R version 3.6.2\"Warning message:\n",
      "\"package 'tidyr' was built under R version 3.6.2\"Warning message:\n",
      "\"package 'purrr' was built under R version 3.6.2\"Warning message:\n",
      "\"package 'dplyr' was built under R version 3.6.2\"-- Conflicts ------------------------------------------ tidyverse_conflicts() --\n",
      "x dplyr::filter() masks stats::filter()\n",
      "x dplyr::lag()    masks stats::lag()\n",
      "Warning message:\n",
      "\"package 'caret' was built under R version 3.6.2\"Loading required package: lattice\n",
      "\n",
      "Attaching package: 'caret'\n",
      "\n",
      "The following object is masked from 'package:purrr':\n",
      "\n",
      "    lift\n",
      "\n"
     ]
    }
   ],
   "source": [
    "library(tidyverse)\n",
    "library(caret)"
   ]
  },
  {
   "cell_type": "markdown",
   "metadata": {},
   "source": [
    "K-fold cross-validation evaluează performanta modelului pe diferite sumbultimi de date de antrenare, apoi calculeaza o rată de eroare medie."
   ]
  },
  {
   "cell_type": "code",
   "execution_count": 71,
   "metadata": {},
   "outputs": [],
   "source": [
    "trainingData.control <- trainControl(method = \"cv\", number = 10)\n",
    "\n",
    "model <- train(perm ~ shape, data = rock, method = \"lm\",\n",
    "              trControl = trainingData.control)"
   ]
  },
  {
   "cell_type": "code",
   "execution_count": 72,
   "metadata": {},
   "outputs": [
    {
     "name": "stdout",
     "output_type": "stream",
     "text": [
      "Linear Regression \n",
      "\n",
      "48 samples\n",
      " 1 predictor\n",
      "\n",
      "No pre-processing\n",
      "Resampling: Cross-Validated (10 fold) \n",
      "Summary of sample sizes: 43, 43, 42, 43, 43, 43, ... \n",
      "Resampling results:\n",
      "\n",
      "  RMSE     Rsquared   MAE     \n",
      "  362.808  0.4711507  302.7106\n",
      "\n",
      "Tuning parameter 'intercept' was held constant at a value of TRUE\n"
     ]
    }
   ],
   "source": [
    "print(model)"
   ]
  },
  {
   "cell_type": "markdown",
   "metadata": {},
   "source": [
    "## 2.2 Regresie multiplă"
   ]
  },
  {
   "cell_type": "markdown",
   "metadata": {},
   "source": [
    "# 3. Distribuția Hipergeometrică Noncentrală a lui Fisher"
   ]
  },
  {
   "cell_type": "markdown",
   "metadata": {},
   "source": [
    "&emsp; În teoria probabilității și statisticilor, **distribuția hipergeometrică noncentrală a lui Fisher** este o generalizare a distribuției hipergeometrice unde probabilitățile eșantioanelor sunt modificate de ponderile asociate. De asemenea, poate fi definit ca distribuția condiționată a două sau mai multe variabile distribuite binomial, dependente de suma lor fixă."
   ]
  }
 ],
 "metadata": {
  "kernelspec": {
   "display_name": "R",
   "language": "R",
   "name": "ir"
  },
  "language_info": {
   "codemirror_mode": "r",
   "file_extension": ".r",
   "mimetype": "text/x-r-source",
   "name": "R",
   "pygments_lexer": "r",
   "version": "3.6.1"
  }
 },
 "nbformat": 4,
 "nbformat_minor": 4
}
